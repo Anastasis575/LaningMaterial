{
 "cells": [
  {
   "attachments": {},
   "cell_type": "markdown",
   "metadata": {},
   "source": [
    "# Εβδομάδα 4\n"
   ]
  },
  {
   "attachments": {},
   "cell_type": "markdown",
   "metadata": {},
   "source": [
    "### Επανάληψη\n",
    "Ασκηση Φτιάξτε ένα πρόγραμμα στην Python που να προσομοιάζει την λειτουργία εγγραφής και σύνδεσης σε μια υπηρεσία. Συγκεκριμένα, να εμφανίζεται ένα μενού με 3 επιλογές:\n",
    "1. με την επιλογή 1, θα ζητείται να κρατηθεί το όνομα και ο κωδικός ενός χρήστη(όπου το όνομα πρέπει να είναι μοναδικό και ο κωδικός πάνω από 8 χαρακτήρες)\n",
    "2. με την επιλογή 2, θα ζητείται ένας κωδικός και θα εμφανίζεται μήνυμα αν η σύνδεση ήταν επιτυχής ή όχι\n",
    "3. με την  επιλογή 3 το πρόγραμμα θα τερματίζει\n",
    "4. με οποιαδήποτε άλλη επιλογή το πρόγραμμα θα εμφανίζει ένα μήνυμα ότι η είσοδος ήταν εσφαλμένη και θα συνεχίζει "
   ]
  },
  {
   "attachments": {},
   "cell_type": "markdown",
   "metadata": {},
   "source": [
    "### Παράδοση: Dictionaries"
   ]
  },
  {
   "cell_type": "code",
   "execution_count": null,
   "metadata": {},
   "outputs": [],
   "source": [
    "a={}\n",
    "b={\"cat\":True,\"dog\":5,8:\"alive\"}"
   ]
  },
  {
   "cell_type": "code",
   "execution_count": null,
   "metadata": {},
   "outputs": [],
   "source": [
    "a"
   ]
  },
  {
   "cell_type": "code",
   "execution_count": null,
   "metadata": {},
   "outputs": [],
   "source": [
    "b"
   ]
  },
  {
   "cell_type": "markdown",
   "metadata": {},
   "source": [
    "a[5]"
   ]
  },
  {
   "cell_type": "code",
   "execution_count": null,
   "metadata": {},
   "outputs": [],
   "source": [
    "print(b[8])\n",
    "print(b[\"cat\"])"
   ]
  },
  {
   "cell_type": "code",
   "execution_count": null,
   "metadata": {},
   "outputs": [],
   "source": [
    "a[\"hey\"]=8\n",
    "print(len(a))\n",
    "a"
   ]
  },
  {
   "cell_type": "code",
   "execution_count": null,
   "metadata": {},
   "outputs": [],
   "source": [
    "h=\"hey\"\n",
    "a[h]=\"password\"\n",
    "a"
   ]
  },
  {
   "cell_type": "code",
   "execution_count": null,
   "metadata": {},
   "outputs": [],
   "source": [
    "del b[\"dog\"]\n",
    "b[\"dog\"]"
   ]
  },
  {
   "cell_type": "code",
   "execution_count": 21,
   "metadata": {},
   "outputs": [
    {
     "name": "stdout",
     "output_type": "stream",
     "text": [
      "key= cat\n",
      "value= True\n",
      "key= 8\n",
      "value= alive\n"
     ]
    }
   ],
   "source": [
    "for key in b:\n",
    "    print(f\"key= {key}\")\n",
    "    print(f\"value= {b[key]}\")"
   ]
  },
  {
   "cell_type": "code",
   "execution_count": 18,
   "metadata": {},
   "outputs": [
    {
     "data": {
      "text/plain": [
       "True"
      ]
     },
     "execution_count": 18,
     "metadata": {},
     "output_type": "execute_result"
    }
   ],
   "source": [
    "\"cat\" in b"
   ]
  },
  {
   "attachments": {},
   "cell_type": "markdown",
   "metadata": {},
   "source": [
    "### Ασκηση\n",
    "Ξαναγράψτε το πρόγραμμα της επανάληψης χρησιμοποιώντας όμως την δομή του λεξικού."
   ]
  }
 ],
 "metadata": {
  "kernelspec": {
   "display_name": "Python 3.11.0 64-bit",
   "language": "python",
   "name": "python3"
  },
  "language_info": {
   "codemirror_mode": {
    "name": "ipython",
    "version": 3
   },
   "file_extension": ".py",
   "mimetype": "text/x-python",
   "name": "python",
   "nbconvert_exporter": "python",
   "pygments_lexer": "ipython3",
   "version": "3.11.0"
  },
  "orig_nbformat": 4,
  "vscode": {
   "interpreter": {
    "hash": "ebfc0a8d552866b0d59eba665220a57de3bc06f3ac643b8bef38dd8f66781fdd"
   }
  }
 },
 "nbformat": 4,
 "nbformat_minor": 2
}
